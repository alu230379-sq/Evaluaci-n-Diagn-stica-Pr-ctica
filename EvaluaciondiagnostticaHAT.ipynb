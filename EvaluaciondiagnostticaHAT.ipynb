{
  "nbformat": 4,
  "nbformat_minor": 0,
  "metadata": {
    "colab": {
      "provenance": [],
      "authorship_tag": "ABX9TyMz05ggtMFjvP386Ztt1G97",
      "include_colab_link": true
    },
    "kernelspec": {
      "name": "python3",
      "display_name": "Python 3"
    },
    "language_info": {
      "name": "python"
    }
  },
  "cells": [
    {
      "cell_type": "markdown",
      "metadata": {
        "id": "view-in-github",
        "colab_type": "text"
      },
      "source": [
        "<a href=\"https://colab.research.google.com/github/alu230379-sq/Evaluaci-n-Diagn-stica-Pr-ctica/blob/main/EvaluaciondiagnostticaHAT.ipynb\" target=\"_parent\"><img src=\"https://colab.research.google.com/assets/colab-badge.svg\" alt=\"Open In Colab\"/></a>"
      ]
    },
    {
      "cell_type": "markdown",
      "source": [
        "Página1.- Imprimir nombre, paterno y materno de Alumno con phyton"
      ],
      "metadata": {
        "id": "Fl59e5yB1C04"
      }
    },
    {
      "cell_type": "code",
      "execution_count": 1,
      "metadata": {
        "colab": {
          "base_uri": "https://localhost:8080/"
        },
        "id": "H9e1n00Mzy3D",
        "outputId": "5813df06-b2e5-48f6-c3c7-9fcc45ca9330"
      },
      "outputs": [
        {
          "output_type": "stream",
          "name": "stdout",
          "text": [
            "Captura tu nombre Hector Julian\n",
            "Captura tu apellido paterno Armendariz\n",
            "Captura tu apellido materno Talamantes\n",
            "Hector Julian Armendariz Talamantes\n"
          ]
        }
      ],
      "source": [
        "nombre=(input(\"Captura tu nombre \"))\n",
        "app=(input(\"Captura tu apellido paterno \"))\n",
        "apm=(input(\"Captura tu apellido materno \"))\n",
        "print(nombre, app, apm)"
      ]
    },
    {
      "cell_type": "markdown",
      "source": [
        "Página2.- Capturar 2 números decimales e imprimir Suma"
      ],
      "metadata": {
        "id": "MgpCOY8513Fj"
      }
    },
    {
      "cell_type": "code",
      "source": [
        "n1 = float(input(\"Captura el primer numero \"))\n",
        "n2 = float(input(\"Captura el segundo numero \"))\n",
        "sum = n1 + n2\n",
        "print(\"La suma es \", sum)"
      ],
      "metadata": {
        "colab": {
          "base_uri": "https://localhost:8080/"
        },
        "id": "YOzxJg6z13rr",
        "outputId": "fc8246a7-c2ad-486e-eb3c-3bed373bfaf5"
      },
      "execution_count": 3,
      "outputs": [
        {
          "output_type": "stream",
          "name": "stdout",
          "text": [
            "Captura el primer numero 1.5\n",
            "Captura el segundo numero 1.5\n",
            "La suma es  3.0\n"
          ]
        }
      ]
    },
    {
      "cell_type": "markdown",
      "source": [
        "Página3.- Calcular el área de un círculo"
      ],
      "metadata": {
        "id": "vnaerJTB2Moi"
      }
    },
    {
      "cell_type": "code",
      "source": [
        "rad=(input(\"Captura el radio del circulo \"))\n",
        "area=3.1416*float(rad)**2\n",
        "print(\"El area del circulo es \", area)\n"
      ],
      "metadata": {
        "colab": {
          "base_uri": "https://localhost:8080/"
        },
        "id": "Efw1vfAc2QVy",
        "outputId": "a529ea75-d0cb-449c-ac99-dbc7164c2a2a"
      },
      "execution_count": 4,
      "outputs": [
        {
          "output_type": "stream",
          "name": "stdout",
          "text": [
            "Captura el radio del circulo 3\n",
            "El area del circulo es  28.2744\n"
          ]
        }
      ]
    },
    {
      "cell_type": "markdown",
      "source": [
        "Pagina4.- Ejemplo de código y ventana resultante de semestre pasado. un programa donde acomode de mayor a menor los numeros"
      ],
      "metadata": {
        "id": "EJ-JHetW28oo"
      }
    },
    {
      "cell_type": "code",
      "source": [
        "n1 = float(input(\"Captura el primer numero \"))\n",
        "n2 = float(input(\"Captura el segundo numero \"))\n",
        "if n1 > n2:\n",
        "    print(n1, n2)\n",
        "else:\n",
        "    print(n2, n1)"
      ],
      "metadata": {
        "colab": {
          "base_uri": "https://localhost:8080/"
        },
        "id": "sPhXqYrx3bZN",
        "outputId": "dcbe65fe-ad98-45b0-b6ea-70e96678446b"
      },
      "execution_count": 6,
      "outputs": [
        {
          "output_type": "stream",
          "name": "stdout",
          "text": [
            "Captura el primer numero 2\n",
            "Captura el segundo numero 10\n",
            "10.0 2.0\n"
          ]
        }
      ]
    }
  ]
}